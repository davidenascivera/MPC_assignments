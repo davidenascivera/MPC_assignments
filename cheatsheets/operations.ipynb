{
 "cells": [
  {
   "cell_type": "code",
   "execution_count": 19,
   "id": "6e4b7723",
   "metadata": {},
   "outputs": [],
   "source": [
    "%matplotlib inline"
   ]
  },
  {
   "cell_type": "code",
   "execution_count": 20,
   "id": "9780c6ae",
   "metadata": {},
   "outputs": [],
   "source": [
    "import numpy as np\n",
    "import matplotlib.pyplot as plt"
   ]
  },
  {
   "cell_type": "markdown",
   "id": "9eacbb5c",
   "metadata": {
    "cell_marker": "\"\"\""
   },
   "source": [
    "This script is meant to refresh your knowledge in Python, Numpy.\n",
    "\n",
    "The first part of the script is taken from the CVXPY tutorials webape which you are welcome to visit here :\n",
    "https://www.cvxgrp.org/cvx_short_course/docs/python_intro/notebooks/numpy_example.html\n",
    "\n",
    "The second part of the script is dedicated to solving a few simple exercises \n",
    "\n",
    "Pedro Roque, Gregorio Marchesini \n",
    "Last update : 2024/06"
   ]
  },
  {
   "cell_type": "markdown",
   "id": "cfe72b7a",
   "metadata": {},
   "source": [
    "## **PART -1** : Basic types, Lists, Tuples, Dictionaries, and Sets\n",
    "\n",
    "Python is an interpreted, object-oriented, high-level programming language.\n",
    "The main building blocks of a Python program are variables (of a specific data type),\n",
    "and functions (which are blocks of code that perform a specific task over the variables).\n",
    "On top of this, python is rich in data structures such as lists, tuples, dictionaries, and sets,\n",
    "that can be used to group and order multiple variables.\n",
    "The next section is dedicated to give a brief refresher types, data structures and functions is python"
   ]
  },
  {
   "cell_type": "code",
   "execution_count": 21,
   "id": "034d06a6",
   "metadata": {},
   "outputs": [],
   "source": [
    "# Basic types\n",
    "#   int, float, str, bool\n",
    "a = 1\n",
    "b = 2.0\n",
    "c = \"hello\"\n",
    "d = True\n",
    "\n"
   ]
  },
  {
   "cell_type": "code",
   "execution_count": 22,
   "id": "54cf5165",
   "metadata": {},
   "outputs": [
    {
     "name": "stdout",
     "output_type": "stream",
     "text": [
      "3.0\n",
      "2.0\n",
      "0.5\n",
      "1.0\n",
      "1.0\n",
      "False\n",
      "True\n",
      "False\n",
      "True\n",
      "False\n",
      "True\n"
     ]
    }
   ],
   "source": [
    "\n",
    "# operations over types\n",
    "print(a + b)  # Addition\n",
    "print(a * b)  # Multiplication\n",
    "print(a / b)  # Division\n",
    "print(a ** b)  # Exponentiation\n",
    "print(a % b)  # Modulus\n",
    "print(a == b)  # Equality\n",
    "print(a != b)  # Inequality\n",
    "print(a > b)  # Greater than\n",
    "print(a < b)  # Less than\n",
    "print(a >= b)  # Greater than or equal to\n",
    "print(a <= b)  # Less than or equal to\n"
   ]
  },
  {
   "cell_type": "code",
   "execution_count": 23,
   "id": "eec6470d",
   "metadata": {},
   "outputs": [
    {
     "name": "stdout",
     "output_type": "stream",
     "text": [
      "hello world\n",
      "hellohellohello\n",
      "h\n",
      "el\n",
      "5\n"
     ]
    }
   ],
   "source": [
    "\n",
    "# string operatiions \n",
    "print(c + \" world\")  # Concatenation\n",
    "print(c * 3)  # Repetition\n",
    "print(c[0])  # Indexing (0-indexed)\n",
    "print(c[1:3])  # Slicing (1-indexed to 2-indexed)\n",
    "print(len(c))  # Length\n"
   ]
  },
  {
   "cell_type": "code",
   "execution_count": 24,
   "id": "7332be6a",
   "metadata": {},
   "outputs": [
    {
     "name": "stdout",
     "output_type": "stream",
     "text": [
      "[1, 2, 3, 4, 5]\n",
      "1\n",
      "5\n",
      "[2, 3]\n",
      "[1, 2, 3, 4, 5, 6]\n"
     ]
    }
   ],
   "source": [
    "# Lists\n",
    "#   Ordered, mutable, allows duplicates\n",
    "L = [1, 2, 3, 4, 5]\n",
    "print(L)\n",
    "print(L[0])  # First element (0-indexed)\n",
    "print(L[-1])  # Last element\n",
    "print(L[1:3])  # Slicing (1-indexed to 2-indexed)\n",
    "L.append(6)  # Append an element\n",
    "print(L)    \n",
    "\n",
    "\n"
   ]
  },
  {
   "cell_type": "code",
   "execution_count": 25,
   "id": "5aaa6715",
   "metadata": {},
   "outputs": [
    {
     "name": "stdout",
     "output_type": "stream",
     "text": [
      "(1, 2, 3, 4, 5)\n",
      "1\n",
      "5\n",
      "(2, 3)\n"
     ]
    }
   ],
   "source": [
    "\n",
    "# Note for matlab users: Python is 0-indexed, meaning that the first element of a list is indexed by 0\n",
    "# and the last element is indexed by len(list) - 1. So if you want to access the first element of a list\n",
    "# you should use list[0] and if you want to access the last element you should use list[- 1].\n",
    "# Moreover ranges in python are defined as [start:stop:step] where start is included and stop is NOT included.\n",
    "# Indeed L[:3] can be used to access the first 3 elements of a list L, but the last element is the one at index 2.\n",
    "# Indeed counting from 0 to 2 gives 3 elements ! (0,1,2).\n",
    "\n",
    "# tuples\n",
    "#   Ordered, immutable, allows duplicates\n",
    "T = (1, 2, 3, 4, 5)\n",
    "print(T)\n",
    "print(T[0])  # First element (0-indexed)\n",
    "print(T[-1])  # Last element\n",
    "print(T[1:3])  # Slicing (1-indexed to 2-indexed)\n",
    "\n",
    "# Note for matlab users: Tuples are similar to lists but they are immutable, meaning that once they are created\n",
    "# they cannot be modified. This is useful when you want to create a list of elements that should not be modified\n",
    "# during the execution of the program.\n"
   ]
  },
  {
   "cell_type": "code",
   "execution_count": 26,
   "id": "57e963be",
   "metadata": {},
   "outputs": [
    {
     "name": "stdout",
     "output_type": "stream",
     "text": [
      "{'a': 1, 'b': 2, 'c': 3}\n",
      "1\n",
      "{'a': 1, 'b': 2, 'c': 3, 'd': 4}\n"
     ]
    },
    {
     "data": {
      "text/plain": [
       "5"
      ]
     },
     "execution_count": 26,
     "metadata": {},
     "output_type": "execute_result"
    }
   ],
   "source": [
    "\n",
    "# Dictionaries\n",
    "#   Unordered, mutable, indexed, no duplicates\n",
    "D = {\"a\": 1, \"b\": 2, \"c\": 3}\n",
    "print(D)\n",
    "print(D[\"a\"])  # Access value by key\n",
    "D[\"d\"] = 4  # Add a new key-value pair\n",
    "print(D)\n",
    "D.get(\"e\", 5)  # Get value by key, with default of 5 if key not found\n",
    "\n",
    "# Note for matlab users: Dictionaries are a way to store key-value pairs. This is useful when you want to store\n",
    "# information that can be accessed by a specific key. For example, if you want to store the age of a person\n",
    "# you can create a dictionary with the name of the person as the key and the age as the value. This way you can\n",
    "# access the age of a person by using the name of the person as the key.\n",
    "\n"
   ]
  },
  {
   "cell_type": "code",
   "execution_count": 27,
   "id": "aa355f2b",
   "metadata": {},
   "outputs": [
    {
     "name": "stdout",
     "output_type": "stream",
     "text": [
      "{1, 2, 3, 4, 5}\n",
      "{1, 2, 3, 4, 5, 6}\n",
      "{1, 2, 3, 4, 5}\n",
      "{3}\n"
     ]
    }
   ],
   "source": [
    "\n",
    "# Sets\n",
    "#   Unordered, mutable, no duplicates\n",
    "S = {1, 2, 3, 4, 5}\n",
    "print(S)\n",
    "S.add(6)  # Add an element\n",
    "print(S)\n",
    "S1 = {1, 2, 3}\n",
    "S2 = {3, 4, 5}\n",
    "print(S1.union(S2))  # Union\n",
    "print(S1.intersection(S2))  # Intersection\n",
    "\n",
    "# Note sets are useful when you want to store a collection of elements that should not be repeated.\n",
    "# For example, if you want to store the unique elements of a list you can convert the list to a set.\n",
    "# Example : L = [1, 2, 3, 1, 2, 3] -> S = set(L) -> S = {1, 2, 3}\n",
    "\n"
   ]
  },
  {
   "cell_type": "code",
   "execution_count": 28,
   "id": "ab7cba98",
   "metadata": {},
   "outputs": [
    {
     "name": "stdout",
     "output_type": "stream",
     "text": [
      "3\n",
      "a\n",
      "b\n",
      "c\n",
      "d\n",
      "None\n",
      "3 -1\n"
     ]
    }
   ],
   "source": [
    "\n",
    "# Functions\n",
    "# Functions are main building blocks of a Python program. They are blocks of code that perform a specific task.\n",
    "\n",
    "# adding two numbers\n",
    "def my_function(a, b):\n",
    "    return a + b\n",
    "\n",
    "# calling the function\n",
    "print(my_function(1, 2))\n",
    "\n",
    "# create a function to read the keys of a dictionary \n",
    "def read_keys(D):\n",
    "    for key in D.keys():\n",
    "        print(key)\n",
    "    return \n",
    "\n",
    "# calling the function\n",
    "print(read_keys(D))\n",
    "\n",
    "# A function can return multiple values\n",
    "def my_function(a, b):\n",
    "    return a + b, a - b\n",
    "\n",
    "# calling the function\n",
    "c, d = my_function(1, 2) # the comma can be used to unpack objects in python\n",
    "print(c, d)\n",
    "\n"
   ]
  },
  {
   "cell_type": "code",
   "execution_count": 29,
   "id": "e68d22d8",
   "metadata": {},
   "outputs": [
    {
     "name": "stdout",
     "output_type": "stream",
     "text": [
      "Name:  Greg\n",
      "Age:  25\n",
      "x: 4 y: 6\n",
      "11\n"
     ]
    }
   ],
   "source": [
    "\n",
    "\n",
    "# Objects and Classes\n",
    "# Python is an object-oriented programming language. This means that it allows the definition of classes and objects.\n",
    "# in reality, everything is an object is python like the types we saw before (int, float, str, bool, list, tuple, dict, set)\n",
    "# but you can also create your own objects !.\n",
    "\n",
    "# Example of a class\n",
    "class Person:\n",
    "    \n",
    "    # every object of a class has an __init__ method that is called when the object is created\n",
    "    def __init__(self, name : str, age :float):\n",
    "        self.name = name  # this is an attribute of the object\n",
    "        self.age = age    # this is another one\n",
    "    \n",
    "    # a function within an an object is commonly called a method\n",
    "    def print_info(self):\n",
    "        print(\"Name: \", self.name)\n",
    "        print(\"Age: \", self.age)\n",
    "        \n",
    "# creating an object of the class Person\n",
    "p = Person(name = \"Greg\", age= 25) # you can also call simply as Person(\"Greg\", 25) but you need to remember the order in that case!\n",
    "p.print_info()\n",
    "\n",
    "# Note that the __init__ method is called when the object is created and it is used to initialize the object.\n",
    "# The self argument is a reference to the object itself and it is used to access the attributes and methods of the object.\n",
    "# The attributes of the object are defined within the __init__ method and they are accessed using the self argument.\n",
    "# The methods of the object are defined within the class and they are accessed using the self argument as well.\n",
    "\n",
    "# You could also overload basic operators in python for your class (this is why int,float and other types can be added, multiplied, etc)\n",
    "\n",
    "# Example of a class with overloaded operators\n",
    "class Vector:\n",
    "        \n",
    "        def __init__(self, x : float, y : float):\n",
    "            self.x = x\n",
    "            self.y = y\n",
    "        \n",
    "        # addition between two vectors\n",
    "        def __add__(self, other):\n",
    "            return Vector(self.x + other.x, self.y + other.y)\n",
    "        \n",
    "        def __mul__(self, other):\n",
    "            return self.x * other.x + self.y * other.y\n",
    "        \n",
    "        # used when the print function is called on the object\n",
    "        def __str__(self):\n",
    "            return \"x: \" + str(self.x) + \" y: \" + str(self.y)\n",
    "        \n",
    "# example of usage\n",
    "v1 = Vector(1, 2)\n",
    "v2 = Vector(3, 4)\n",
    "v3 = v1 + v2\n",
    "print(v3)\n",
    "print(v1 * v2)\n",
    "# print(v1/v2) # this will raise an error because the division operator is not defined for the class Vector\n"
   ]
  },
  {
   "cell_type": "markdown",
   "id": "76a4f29d",
   "metadata": {},
   "source": []
  },
  {
   "cell_type": "markdown",
   "id": "d97a70db",
   "metadata": {},
   "source": [
    "## Some final notes:\n",
    "Note 1: functions in python are also objects ! you can pass them as arguments to other functions, return them from functions, etc.\n",
    "\n",
    "Note 2: Python is a dynamically typed language, meaning that you do not need to specify the type of a variable when you declare it (like in matlab).\n",
    "\n",
    "Note 3: it is always a good practice to comment your code and introduce a funciton signature to your functions if the function is not trivial. As a certainty in your life, you will forget what you did in a few months.\n",
    "\n",
    "Note 4: This is just an intro to python. There is waaaaaaaay more to it to be learned and python is notoriously the most used language worldwide, so it is worth learning it\n"
   ]
  },
  {
   "cell_type": "markdown",
   "id": "953a67b8",
   "metadata": {
    "cell_marker": "# #######################################################"
   },
   "source": [
    "## **Part-0** : Iterations and conditional statements\n",
    "In this section we revise how to use while loops, for loops, if statements, and list comprehensions in Python.\n",
    "these are core functionalities of python that you will use a lot in your programming tasks."
   ]
  },
  {
   "cell_type": "markdown",
   "id": "ed6383db",
   "metadata": {},
   "source": [
    "### While loops"
   ]
  },
  {
   "cell_type": "code",
   "execution_count": 30,
   "id": "68516805",
   "metadata": {},
   "outputs": [
    {
     "name": "stdout",
     "output_type": "stream",
     "text": [
      "0\n",
      "1\n",
      "2\n",
      "3\n",
      "4\n"
     ]
    }
   ],
   "source": [
    "# In this section we revise how to use while loops, for loops, if statements, and list comprehensions in Python.\n",
    "# these are core functionalities of python that you will use a lot in your programming tasks.\n",
    "\n",
    "# While loops\n",
    "#   Execute a block of code while a condition is true\n",
    "i = 0\n",
    "while i < 5:\n",
    "    print(i)\n",
    "    i += 1\n",
    "\n",
    "# note in Python (differently than in Matlab) the indentation is very important. The code inside the while loop is indented and the indentantion\n",
    "# is used to define the block of code that is executed in the while loop. This is a way to make the code more readable and to avoid the use of brackets.\n",
    "# There is NO END statement in python to close a block of code. The end of the block is defined by the indentation. Python will throw an error if you miss \n",
    "# the indentation.\n"
   ]
  },
  {
   "cell_type": "markdown",
   "id": "a9c860b4",
   "metadata": {},
   "source": [
    "### For loops"
   ]
  },
  {
   "cell_type": "code",
   "execution_count": 31,
   "id": "5109ebdd",
   "metadata": {},
   "outputs": [
    {
     "name": "stdout",
     "output_type": "stream",
     "text": [
      "1\n",
      "2\n",
      "3\n",
      "4\n",
      "5\n"
     ]
    }
   ],
   "source": [
    "\n",
    "# for loops \n",
    "#   Execute a block of code for each element in a sequence\n",
    "L = [1, 2, 3, 4, 5]\n",
    "\n",
    "for i in L:\n",
    "    print(i)\n",
    " "
   ]
  },
  {
   "cell_type": "code",
   "execution_count": 32,
   "id": "0420b345",
   "metadata": {},
   "outputs": [
    {
     "name": "stdout",
     "output_type": "stream",
     "text": [
      "1\n",
      "2\n",
      "3\n",
      "4\n",
      "5\n"
     ]
    }
   ],
   "source": [
    "   \n",
    "# in matlab we are used to iterate over indices of a list. In python you can do this as well\n",
    "for i in range(len(L)):\n",
    "    print(L[i])\n",
    "    \n",
    "# but you should not do it ! it is not pythonic. The pythonic way to iterate over a list is to iterate over the elements of the list directly as we did before.\n",
    "# look at at how cool is the syntax in python using this functionality \n"
   ]
  },
  {
   "cell_type": "code",
   "execution_count": 33,
   "id": "339810ba",
   "metadata": {},
   "outputs": [
    {
     "name": "stdout",
     "output_type": "stream",
     "text": [
      "Greg\n",
      "Pedro\n",
      "John\n",
      "Alice\n",
      "1\n",
      "2\n",
      "3\n",
      "4\n",
      "5\n",
      "a\n",
      "b\n",
      "c\n",
      "a 1\n",
      "b 2\n",
      "c 3\n"
     ]
    }
   ],
   "source": [
    "\n",
    "people = [\"Greg\", \"Pedro\", \"John\", \"Alice\"]\n",
    "for person in people:\n",
    "    print(person)\n",
    "\n",
    "# in gereal you can iterate on everything that is an instance of the class Iterable. This includes lists, tuples, dictionaries, sets, etc.\n",
    "# here are some example \n",
    "set1 = {1, 2, 3, 4, 5}\n",
    "for number in set1:\n",
    "    print(number)\n",
    "\n",
    "\n",
    "dict1 = {\"a\": 1, \"b\": 2, \"c\": 3}\n",
    "for key in dict1.keys():\n",
    "    print(key)\n",
    "# dictionaries also have a way to iterate over both keys and values (THIS IS EXTREEEEEEMLY USEFUL AND USED A LOT)\n",
    "for key, value in dict1.items():\n",
    "    print(key, value)\n",
    "\n"
   ]
  },
  {
   "cell_type": "code",
   "execution_count": 34,
   "id": "2202dc30",
   "metadata": {},
   "outputs": [
    {
     "name": "stdout",
     "output_type": "stream",
     "text": [
      "0\n",
      "1\n",
      "2\n",
      "3\n",
      "4\n",
      "0 Greg\n",
      "1 Pedro\n",
      "2 John\n",
      "3 Alice\n"
     ]
    }
   ],
   "source": [
    "\n",
    "# finally you can use ranges to iterate over a sequence of numbers\n",
    "for i in range(5):\n",
    "    print(i)\n",
    "# the class enumerate is also very useful to iterate over a list and get the index of the element\n",
    "\n",
    "for i, person in enumerate(people):\n",
    "    print(i, person)\n",
    "    \n"
   ]
  },
  {
   "cell_type": "code",
   "execution_count": 35,
   "id": "f76afae4",
   "metadata": {},
   "outputs": [
    {
     "name": "stdout",
     "output_type": "stream",
     "text": [
      "a is 1\n",
      "a is not 2\n"
     ]
    }
   ],
   "source": [
    "\n",
    "# if statements\n",
    "#   Execute a block of code if a condition is true\n",
    "a = 1\n",
    "if a == 1:\n",
    "    print(\"a is 1\")\n",
    "elif a == 2:\n",
    "    print(\"a is 2\")\n",
    "else:\n",
    "    print(\"a is neither 1 nor 2\")\n",
    "    \n",
    "\n",
    "# also you can use negations in the if statement\n",
    "if not a == 2: # or equivalently  a!= 2\n",
    "    print(\"a is not 2\")\n"
   ]
  },
  {
   "cell_type": "markdown",
   "id": "a05a58f7",
   "metadata": {},
   "source": [
    "### List Comprehension"
   ]
  },
  {
   "cell_type": "code",
   "execution_count": null,
   "id": "9cd29abb",
   "metadata": {},
   "outputs": [],
   "source": [
    "# list comprehensions\n",
    "# This is nothing like in matlab. This is a very powerful feature of python that allows you to create lists in a very concise way.\n",
    "\n",
    "numbered_people = [(i, person) for i, person in enumerate(people)] # create a list of tuple with the index and the person\n",
    "\n",
    "# create a dictionary with list comprehensions\n",
    "people = [\"Greg\", \"Pedro\", \"John\", \"Alice\"]\n",
    "ages_dict  = {person : 25 for person in people} # create a dictionary with the age set to 25 of each person\n",
    "\n"
   ]
  },
  {
   "cell_type": "markdown",
   "id": "8dc2d49f",
   "metadata": {},
   "source": [
    "### Some Tricks"
   ]
  },
  {
   "cell_type": "code",
   "execution_count": null,
   "id": "952b3cb7",
   "metadata": {},
   "outputs": [],
   "source": [
    "\n",
    "# tricks : the zip method\n",
    "# zip is a very useful method that allows you to iterate over two lists at the same time (it pairs every element of the two lists into a tuple)\n",
    "\n",
    "ages = [25, 30, 35, 40]\n",
    "for person, age in zip(people, ages):\n",
    "    print(person, age)\n",
    "    "
   ]
  },
  {
   "cell_type": "markdown",
   "id": "e0640fb8",
   "metadata": {
    "cell_marker": "# #######################################################"
   },
   "source": [
    "## **Part-1** : Numpy for Matrix operations"
   ]
  },
  {
   "cell_type": "markdown",
   "id": "96e5f73e",
   "metadata": {},
   "source": [
    "In this section you will learn how to use numpy, a library that is widely used in python for numerical computations.\n",
    "Numpy is different from matlab in how arrays work. We must be honest sayiing that matlab was created for the easiness in matrix and vector operations so\n",
    "that using matlab for vector an matrix operations is often easier. But a bit of practice will make you feel comfortable with numpy as well.  \n"
   ]
  },
  {
   "cell_type": "code",
   "execution_count": null,
   "id": "c18a69a2",
   "metadata": {},
   "outputs": [],
   "source": [
    "\n",
    "\n",
    "# 1: Create a vector\n",
    "v = np.array([1, 2, 3, 4, 5])\n",
    "print(v)\n",
    "# an array in numpy ha only one dimension! in matlab a vector is a 1xN or Nx1 matrix\n",
    "# in numpy a vector is a 1D array. If you want to create a 2D array you should use np.array([[1, 2, 3, 4, 5]])\n",
    "# note indeed what happens try to transpose the vector \n",
    "print(v.T) # this will not work as expected\n",
    "print(v)\n",
    "# The array is the same as before! this is because the array is 1D and the transpose of a 1D array is the same array.\n",
    "# Usually in python it is best to think of  a vector as a row and not as a column like in matlab.\n"
   ]
  },
  {
   "cell_type": "code",
   "execution_count": null,
   "id": "5cca8333",
   "metadata": {},
   "outputs": [],
   "source": [
    "# 2: Create a column vector\n",
    "v = np.array([[1], [2], [3], [4], [5]])\n",
    "print(v)\n",
    "print(v.T) # now the transpose works as expected because the vector has two dimensions \n"
   ]
  },
  {
   "cell_type": "code",
   "execution_count": null,
   "id": "128123dc",
   "metadata": {},
   "outputs": [],
   "source": [
    "\n",
    "# 3: a trick to make a vector a column vector\n",
    "v = np.array([1, 2, 3, 4, 5])\n",
    "v = v[:, np.newaxis] # this command adds one dimension to the vector\n",
    "print(v)\n",
    "print(v.T) # now the transpose works as expected because the vector has two dimensions\n"
   ]
  },
  {
   "cell_type": "code",
   "execution_count": null,
   "id": "ed436eb8",
   "metadata": {},
   "outputs": [],
   "source": [
    "\n",
    "# 4: Create a matrix\n",
    "#   NOTE: argument is a tuple '(3, 4)'\n",
    "#     WRONG: np.zeros(3, 4)\n",
    "#     CORRECT: np.zeros( (3, 4) )\n",
    "A = np.zeros((3, 4))\n",
    "\n",
    "# you can create also a tensor of zeros\n",
    "T = np.zeros((3, 4, 5))\n",
    "\n",
    "\n",
    "print(A)\n",
    "print(A.shape)  # dimensions of A\n"
   ]
  },
  {
   "cell_type": "code",
   "execution_count": null,
   "id": "29efffc2",
   "metadata": {},
   "outputs": [],
   "source": [
    "\n",
    "# All-one matrix\n",
    "B = np.ones((3, 4))\n",
    "print(B)\n"
   ]
  },
  {
   "cell_type": "code",
   "execution_count": null,
   "id": "8ff2081e",
   "metadata": {},
   "outputs": [],
   "source": [
    "\n",
    "# Identity matrix\n",
    "I = np.eye(5)\n",
    "print(I)\n"
   ]
  },
  {
   "cell_type": "code",
   "execution_count": null,
   "id": "9e7db179",
   "metadata": {},
   "outputs": [],
   "source": [
    "\n",
    "# Stacking matrices horizontally\n",
    "#   Use vstack to stack vertically\n",
    "J = np.hstack((I, I))\n",
    "print(J)\n"
   ]
  },
  {
   "cell_type": "code",
   "execution_count": null,
   "id": "f708d1b3",
   "metadata": {},
   "outputs": [],
   "source": [
    "\n",
    "# Random matrix with standard Gaussian entries\n",
    "#   NOTE: argument is NOT a tuple\n",
    "Q = np.random.randn(4, 4)\n",
    "\n",
    "print(Q)\n",
    "print(Q[:, 1])  # Second column (everything is 0-indexed)\n",
    "print(Q[2, 3])  # (3, 4) entry (as a real number)\n",
    "\n",
    "\n",
    "# Random column vector of length 4\n",
    "v = np.random.randn(4, 1)\n",
    "\n",
    "# v.T: v tranpose\n",
    "# @: matrix multiplication (it only works if you have a 2D arrays)\n",
    "z = v.T @ Q @ v\n",
    "\n",
    "# The result is a 1-by-1 matrix\n",
    "print(z)\n",
    "\n",
    "# Extract the result as a real number\n",
    "print(z[0, 0])\n"
   ]
  },
  {
   "cell_type": "code",
   "execution_count": null,
   "id": "18ec19a9",
   "metadata": {},
   "outputs": [],
   "source": [
    "\n",
    "# Other useful methods\n",
    "#   Construct a matrix\n",
    "A = np.array([[1, 2], [3, 4]])\n",
    "B = np.array([[-1, 3.2], [5, 8]])\n",
    "#   Transpose a matrix\n",
    "print(A.T)\n",
    "#   Elementwise multiplication (IT IS NOT THE SAME AS MATRIX MULTIPLICATION)\n",
    "print(np.multiply(A, B))\n",
    "#   Sum of each column (as a row vector)\n",
    "print(np.sum(A, axis=0))\n",
    "#   Sum of each row (as a column vector)\n",
    "print(np.sum(A, axis=1))\n"
   ]
  },
  {
   "cell_type": "code",
   "execution_count": null,
   "id": "bc37fb03",
   "metadata": {},
   "outputs": [],
   "source": [
    "\n",
    "# Linear algebra routines\n",
    "Q = A.T @ A\n",
    "(d, V) = np.linalg.eig(Q)  # Eigen decomposition\n",
    "print(\"d = \", d)\n",
    "print(\"V = \", V)\n",
    "\n",
    "v = np.array([1, 2])\n",
    "print(\"||v||_2 = \", np.linalg.norm(v))  # 2-norm of a vector\n",
    "\n",
    "Qinv = np.linalg.inv(Q)  # Matrix inverse\n",
    "# Solves Qx = v (faster than Qinv*v)\n",
    "x = np.linalg.solve(Q, v)\n",
    "print(\"Q^{-1}v = \", x)\n",
    "\n"
   ]
  },
  {
   "cell_type": "markdown",
   "id": "54cbce05",
   "metadata": {},
   "source": [
    "\n",
    "### Extremely important for matlab users\n",
    "One very important concept in Numpy regards how vectors/matrices are stored in the memory.\n",
    "This is often cause of mistakes that are difficult to debug.\n",
    "Namely, numpy array are not copied unless you ask numpy to do so.\n"
   ]
  },
  {
   "cell_type": "code",
   "execution_count": null,
   "id": "8dd84371",
   "metadata": {},
   "outputs": [],
   "source": [
    "\n",
    "# consider \n",
    "v1 = np.array([1, 2, 3])\n",
    "print(\"The vectors a looks like :\", v1)\n",
    "v2 = v1\n",
    "print(\"The vectors a looks like v1 clearly:\", v2)\n",
    "# now if you change v1, also v2 will be changed ! this is because v2 is a reference to the same memory allocation\n",
    "v1[2] = 5\n",
    "print(\"After changing v1 look at v2! :\", v2)\n",
    "# numpy offers the possibility to instead create a copy of the array\n",
    "# so now the two copies are independent\n",
    "v2 = v1.copy()\n",
    "v1[2] = 7\n",
    "print(\"Now the copies are independent :\", v2)\n",
    "# the reason for this is that numpy is designed to be very efficient in memory usage. If you have a very large array and you copy it, you will\n",
    "# use twice the memory. This is why numpy does not copy arrays by default. But you should be aware of this behaviour to avoid bugs in your code!\n"
   ]
  },
  {
   "cell_type": "markdown",
   "id": "01ef7895",
   "metadata": {
    "cell_marker": "#######################################################"
   },
   "source": [
    "\n",
    "# **PART 2** : Some exercises\n"
   ]
  },
  {
   "cell_type": "code",
   "execution_count": null,
   "id": "14c4f17f",
   "metadata": {},
   "outputs": [],
   "source": [
    "\n",
    "############ Q1 ###################\n",
    "# Consider the following matrix A \n",
    "A = np.zeros((9, 9))\n",
    "\n",
    "# Q1.1 : Knowing that in Python the iterator format is:\n",
    "#        start:stop:step , so 1::2 means start at 1, stop at the end\n",
    "#                   and use a step of 2 -> 1, 3, 5, ...\n",
    "#         Change the matrix A so that the border of A is 0 but the core\n",
    "#         of A follows the pattern in:\n",
    "#                       [0, 0, 0, 0, 0]\n",
    "#                       [0, 1, 0, 1, 0]\n",
    "#                       [0, 0, 0, 0, 0]\n",
    "#                       [0, 1, 0, 1, 0]\n",
    "#                       [0, 0, 0, 0, 0]\n",
    "\n"
   ]
  },
  {
   "cell_type": "code",
   "execution_count": null,
   "id": "479bb763",
   "metadata": {},
   "outputs": [],
   "source": [
    "\n",
    "############ Q2 ###################\n",
    "# Take the following matrix A and array b\n",
    "A = np.eye(3) * 10\n",
    "b = np.linspace(1, 3, 3)\n",
    "\n",
    "# Q2.1 : What is the shape of A and b? (hint : use the .shape method)\n",
    "# Q2.2 : Calculate and print\n",
    "#       i) A @ b\n",
    "#       ii) b^T @ A @ b\n",
    "#       iii) A^{-1} @ b\n",
    "#       iv) || b || (norm-2)\n",
    "#       (hint 1: the symbol @ indicates matrix multiplication in Numpy and it is NOT equivalent to * which indicates element wise multiplication. \n",
    "#       This is different from Matlab where * is matrix multiplication and .* is element wise multiplication.)\n",
    "#       (hint 2: the module np.linalg contains useful functions for linear algebra operations such as inv, norm, etc.)\n",
    "\n"
   ]
  },
  {
   "cell_type": "code",
   "execution_count": null,
   "id": "428d5268",
   "metadata": {},
   "outputs": [],
   "source": [
    "\n",
    "############ Q3 ###################\n",
    "# Q3.1 : With np.linspace or np.arange and np.sin, plot a sine function\n",
    "#        using plt.plot(x, y) and plt.show()\n",
    "\n"
   ]
  },
  {
   "cell_type": "code",
   "execution_count": null,
   "id": "b23aa676",
   "metadata": {},
   "outputs": [],
   "source": [
    "\n",
    "############ Q4 ###################\n",
    "# Q4.1 : Take now a random array such as\n",
    "b_rnd = np.random.uniform(low=0, high=10, size=(1001))\n",
    "# Get the 2nd largest value in the array by creating a for loop\n",
    "# that looks for this item and stores its index too.\n",
    "# Useful functions: range(), len()"
   ]
  },
  {
   "cell_type": "markdown",
   "id": "9e7b9062",
   "metadata": {
    "cell_marker": "#######################################################"
   },
   "source": [
    "# **PART-3**: plotting\n"
   ]
  },
  {
   "cell_type": "code",
   "execution_count": 2,
   "id": "7ffee0b7",
   "metadata": {},
   "outputs": [
    {
     "data": {
      "text/plain": [
       "Text(0, 0.5, 'sin(x)')"
      ]
     },
     "execution_count": 2,
     "metadata": {},
     "output_type": "execute_result"
    },
    {
     "data": {
      "image/png": "[encoded data removed]",
      "text/plain": [
       "<Figure size 640x480 with 1 Axes>"
      ]
     },
     "metadata": {},
     "output_type": "display_data"
    }
   ],
   "source": [
    "# the library matplotlib is used to plot data in python\n",
    "# it is very similar to matlab in the way it is used\n",
    "\n",
    "# create a vector x\n",
    "x = np.linspace(0, 2*np.pi, 100)\n",
    "# create a vector y\n",
    "y = np.sin(x)\n",
    "\n",
    "# plot the data\n",
    "fig,ax = plt.subplots()\n",
    "ax.plot(x, y)\n",
    "ax.grid()\n",
    "ax.set_xlabel('x')\n",
    "ax.set_ylabel('sin(x)')\n"
   ]
  },
  {
   "cell_type": "code",
   "execution_count": null,
   "id": "452ced6d",
   "metadata": {},
   "outputs": [],
   "source": [
    "\n",
    "# create scatter plot\n",
    "x = np.random.randn(100)\n",
    "y = np.random.randn(100)\n",
    "fig,ax = plt.subplots()\n",
    "ax.scatter(x, y)\n",
    "ax.grid()\n"
   ]
  },
  {
   "cell_type": "code",
   "execution_count": null,
   "id": "23e4dc14",
   "metadata": {},
   "outputs": [],
   "source": [
    "\n",
    "# create subplots\n",
    "fig, axs = plt.subplots(2, 2)\n",
    "x = np.linspace(0, 2*np.pi, 100)\n",
    "y1 = np.sin(x)\n",
    "y2 = np.cos(x)\n",
    "y3 = np.tan(x)\n",
    "y4 = np.exp(x)\n",
    "\n",
    "\n",
    "axs[0, 0].plot(x, y1)\n",
    "axs[0, 1].plot(x, y2)\n",
    "axs[1, 0].plot(x, y3)\n",
    "axs[1, 1].plot(x, y4)\n",
    "\n",
    "axs[0, 0].set_title('sin(x)')\n",
    "axs[0, 1].set_title('cos(x)')\n",
    "axs[1, 0].set_title('tan(x)')\n",
    "axs[1, 1].set_title('exp(x)')\n",
    "\n",
    "# grids\n",
    "for ax in axs.flat:\n",
    "    ax.grid()"
   ]
  }
 ],
 "metadata": {
  "jupytext": {
   "cell_metadata_filter": "-all",
   "main_language": "python",
   "notebook_metadata_filter": "-all"
  },
  "kernelspec": {
   "display_name": ".venv",
   "language": "python",
   "name": "python3"
  },
  "language_info": {
   "codemirror_mode": {
    "name": "ipython",
    "version": 3
   },
   "file_extension": ".py",
   "mimetype": "text/x-python",
   "name": "python",
   "nbconvert_exporter": "python",
   "pygments_lexer": "ipython3",
   "version": "3.10.12"
  }
 },
 "nbformat": 4,
 "nbformat_minor": 5
}
