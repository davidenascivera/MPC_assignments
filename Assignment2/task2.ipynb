{
 "cells": [
  {
   "cell_type": "code",
   "execution_count": 1,
   "metadata": {},
   "outputs": [
    {
     "name": "stdout",
     "output_type": "stream",
     "text": [
      "0.25\n",
      "(6, 6) (6, 3)\n",
      "----------------------------------------\n",
      "# Time to build solver: 0.134623 sec\n",
      "# Number of variables: 601\n",
      "# Number of equality constraints: 301\n",
      "# Number of inequality constraints: 796\n",
      "----------------------------------------\n",
      "Shape of xr: (3, 50)\n"
     ]
    },
    {
     "ename": "IndexError",
     "evalue": "index 250 is out of bounds for axis 0 with size 3",
     "output_type": "error",
     "traceback": [
      "\u001b[0;31m---------------------------------------------------------------------------\u001b[0m",
      "\u001b[0;31mIndexError\u001b[0m                                Traceback (most recent call last)",
      "Cell \u001b[0;32mIn[1], line 55\u001b[0m\n\u001b[1;32m     51\u001b[0m x0 \u001b[38;5;241m=\u001b[39m np\u001b[38;5;241m.\u001b[39marray([[\u001b[38;5;241m0.1\u001b[39m, \u001b[38;5;241m0\u001b[39m, \u001b[38;5;241m0\u001b[39m, \u001b[38;5;241m0\u001b[39m, \u001b[38;5;241m0.01\u001b[39m, \u001b[38;5;241m0\u001b[39m]])\u001b[38;5;241m.\u001b[39mT\n\u001b[1;32m     53\u001b[0m \u001b[38;5;28mprint\u001b[39m(\u001b[38;5;124mf\u001b[39m\u001b[38;5;124m\"\u001b[39m\u001b[38;5;124mShape of xr: \u001b[39m\u001b[38;5;132;01m{\u001b[39;00mx_r\u001b[38;5;241m.\u001b[39mshape\u001b[38;5;132;01m}\u001b[39;00m\u001b[38;5;124m\"\u001b[39m)\n\u001b[0;32m---> 55\u001b[0m x_star, u_star \u001b[38;5;241m=\u001b[39m \u001b[43mctl\u001b[49m\u001b[38;5;241;43m.\u001b[39;49m\u001b[43msolve_problem\u001b[49m\u001b[43m(\u001b[49m\u001b[43mx0\u001b[49m\u001b[43m,\u001b[49m\u001b[43m \u001b[49m\u001b[43mx_r\u001b[49m\u001b[43m)\u001b[49m\n",
      "File \u001b[0;32m~/Documents/0.UNI/1MPC/Assignment2/optimization.py:184\u001b[0m, in \u001b[0;36mFiniteOptimization.solve_problem\u001b[0;34m(self, x0, xr)\u001b[0m\n\u001b[1;32m    182\u001b[0m \u001b[38;5;28mself\u001b[39m\u001b[38;5;241m.\u001b[39mparameters[\u001b[38;5;124m\"\u001b[39m\u001b[38;5;124minitial_input\u001b[39m\u001b[38;5;124m\"\u001b[39m]\u001b[38;5;241m.\u001b[39mvalue  \u001b[38;5;241m=\u001b[39m u0\n\u001b[1;32m    183\u001b[0m \u001b[38;5;28;01mfor\u001b[39;00m step \u001b[38;5;129;01min\u001b[39;00m \u001b[38;5;28mself\u001b[39m\u001b[38;5;241m.\u001b[39mparameters[\u001b[38;5;124m\"\u001b[39m\u001b[38;5;124mreference_trajectory\u001b[39m\u001b[38;5;124m\"\u001b[39m]\u001b[38;5;241m.\u001b[39mkeys():\n\u001b[0;32m--> 184\u001b[0m     \u001b[38;5;28mself\u001b[39m\u001b[38;5;241m.\u001b[39mparameters[\u001b[38;5;124m\"\u001b[39m\u001b[38;5;124mreference_trajectory\u001b[39m\u001b[38;5;124m\"\u001b[39m][step]\u001b[38;5;241m.\u001b[39mvalue \u001b[38;5;241m=\u001b[39m \u001b[43mxr\u001b[49m\u001b[43m[\u001b[49m\u001b[43mstep\u001b[49m\u001b[43m]\u001b[49m\n\u001b[1;32m    188\u001b[0m \u001b[38;5;28mprint\u001b[39m(\u001b[38;5;124m'\u001b[39m\u001b[38;5;130;01m\\n\u001b[39;00m\u001b[38;5;124mSolving a total of \u001b[39m\u001b[38;5;132;01m%d\u001b[39;00m\u001b[38;5;124m time-steps\u001b[39m\u001b[38;5;124m'\u001b[39m \u001b[38;5;241m%\u001b[39m \u001b[38;5;28mself\u001b[39m\u001b[38;5;241m.\u001b[39mNt)\n\u001b[1;32m    189\u001b[0m solve_time \u001b[38;5;241m=\u001b[39m \u001b[38;5;241m-\u001b[39mtime\u001b[38;5;241m.\u001b[39mtime()\n",
      "\u001b[0;31mIndexError\u001b[0m: index 250 is out of bounds for axis 0 with size 3"
     ]
    }
   ],
   "source": [
    "import importlib\n",
    "# Import your custom modules\n",
    "import astrobee_3d\n",
    "import optimization\n",
    "import simulation\n",
    "# Reload the modules in case they have been updated\n",
    "importlib.reload(astrobee_3d)\n",
    "importlib.reload(optimization)\n",
    "importlib.reload(simulation)\n",
    "\n",
    "\n",
    "import numpy as np\n",
    "\n",
    "from astrobee_3d import Astrobee\n",
    "from optimization import FiniteOptimization\n",
    "from simulation import EmbeddedSimEnvironment\n",
    "\n",
    "\n",
    "\n",
    "# Create pendulum and controller objects\n",
    "bumble = Astrobee()\n",
    "print(bumble.inertia)\n",
    "\n",
    "\n",
    "# Get the system discrete-time dynamics\n",
    "A, B = bumble.cartesian_ground_dynamics()\n",
    "print(A.shape, B.shape)\n",
    "Ad, Bd, Cd, Dd = bumble.c2d(A, B, np.eye(6), np.zeros((6, 3)))\n",
    "bumble.set_discrete_dynamics(Ad,Bd)\n",
    "\n",
    "R = np.eye(3) * 10\n",
    "\n",
    "# Get controller\n",
    "\n",
    "# Without u_lim we can do 20s - with u_lim, we need 30! Important to write to them\n",
    "u_lim = np.array([[0.85, 0.42, 0.04]]).T\n",
    "ctl = FiniteOptimization(bumble, bumble.linearized_discrete_dynamics,\n",
    "                         total_time=30.0, rendezvous_time=25.0,\n",
    "                         R=R, u_lim=u_lim)\n",
    "\n",
    "\n",
    "# We want Bumble to go after Honey! So now, we will just create a simple\n",
    "# trajectory for Honey to do while waiting rendezvous\n",
    "honey = Astrobee()\n",
    "honey.set_trajectory(time=30.0) # qua genere 3 funzioni sinusoidali, per px,py,angolo\n",
    "x_r = honey.get_trajectory(t_start=25.0) # qua invece prende gli ultimi step di px,py,angolo\n",
    "\n",
    "\n",
    "x_full_ref = honey.get_trajectory(t_start=0.0) \n",
    "\n",
    "x0 = np.array([[0.1, 0, 0, 0, 0.01, 0]]).T\n",
    "\n",
    "print(f\"Shape of xr: {x_r.shape}\")\n",
    "\n",
    "x_star, u_star = ctl.solve_problem(x0, x_r)\n",
    "\n",
    "\n"
   ]
  },
  {
   "cell_type": "code",
   "execution_count": 40,
   "metadata": {},
   "outputs": [
    {
     "name": "stdout",
     "output_type": "stream",
     "text": [
      "(6, 6) (6, 3)\n",
      "----------------------------------------\n",
      "# Time to build solver: 0.160988 sec\n",
      "# Number of variables: 601\n",
      "# Number of equality constraints: 301\n",
      "# Number of inequality constraints: 796\n",
      "----------------------------------------\n"
     ]
    },
    {
     "ename": "IndexError",
     "evalue": "index 250 is out of bounds for axis 0 with size 3",
     "output_type": "error",
     "traceback": [
      "\u001b[0;31m---------------------------------------------------------------------------\u001b[0m",
      "\u001b[0;31mIndexError\u001b[0m                                Traceback (most recent call last)",
      "Cell \u001b[0;32mIn[40], line 49\u001b[0m\n\u001b[1;32m     46\u001b[0m x_full_ref \u001b[38;5;241m=\u001b[39m honey\u001b[38;5;241m.\u001b[39mget_trajectory(t_start\u001b[38;5;241m=\u001b[39m\u001b[38;5;241m0.0\u001b[39m)\n\u001b[1;32m     48\u001b[0m x0 \u001b[38;5;241m=\u001b[39m np\u001b[38;5;241m.\u001b[39marray([[\u001b[38;5;241m0.1\u001b[39m, \u001b[38;5;241m0\u001b[39m, \u001b[38;5;241m0\u001b[39m, \u001b[38;5;241m0\u001b[39m, \u001b[38;5;241m0.01\u001b[39m, \u001b[38;5;241m0\u001b[39m]])\u001b[38;5;241m.\u001b[39mT\n\u001b[0;32m---> 49\u001b[0m x_star, u_star \u001b[38;5;241m=\u001b[39m \u001b[43mctl\u001b[49m\u001b[38;5;241;43m.\u001b[39;49m\u001b[43msolve_problem\u001b[49m\u001b[43m(\u001b[49m\u001b[43mx0\u001b[49m\u001b[43m,\u001b[49m\u001b[43m \u001b[49m\u001b[43mx_r\u001b[49m\u001b[43m)\u001b[49m\n",
      "File \u001b[0;32m~/Documents/0.UNI/1MPC/Assignment2/optimization.py:184\u001b[0m, in \u001b[0;36mFiniteOptimization.solve_problem\u001b[0;34m(self, x0, xr)\u001b[0m\n\u001b[1;32m    182\u001b[0m \u001b[38;5;28mself\u001b[39m\u001b[38;5;241m.\u001b[39mparameters[\u001b[38;5;124m\"\u001b[39m\u001b[38;5;124minitial_input\u001b[39m\u001b[38;5;124m\"\u001b[39m]\u001b[38;5;241m.\u001b[39mvalue  \u001b[38;5;241m=\u001b[39m u0\n\u001b[1;32m    183\u001b[0m \u001b[38;5;28;01mfor\u001b[39;00m step \u001b[38;5;129;01min\u001b[39;00m \u001b[38;5;28mself\u001b[39m\u001b[38;5;241m.\u001b[39mparameters[\u001b[38;5;124m\"\u001b[39m\u001b[38;5;124mreference_trajectory\u001b[39m\u001b[38;5;124m\"\u001b[39m]\u001b[38;5;241m.\u001b[39mkeys():\n\u001b[0;32m--> 184\u001b[0m     \u001b[38;5;28mself\u001b[39m\u001b[38;5;241m.\u001b[39mparameters[\u001b[38;5;124m\"\u001b[39m\u001b[38;5;124mreference_trajectory\u001b[39m\u001b[38;5;124m\"\u001b[39m][step]\u001b[38;5;241m.\u001b[39mvalue \u001b[38;5;241m=\u001b[39m \u001b[43mxr\u001b[49m\u001b[43m[\u001b[49m\u001b[43mstep\u001b[49m\u001b[43m]\u001b[49m\n\u001b[1;32m    188\u001b[0m \u001b[38;5;28mprint\u001b[39m(\u001b[38;5;124m'\u001b[39m\u001b[38;5;130;01m\\n\u001b[39;00m\u001b[38;5;124mSolving a total of \u001b[39m\u001b[38;5;132;01m%d\u001b[39;00m\u001b[38;5;124m time-steps\u001b[39m\u001b[38;5;124m'\u001b[39m \u001b[38;5;241m%\u001b[39m \u001b[38;5;28mself\u001b[39m\u001b[38;5;241m.\u001b[39mNt)\n\u001b[1;32m    189\u001b[0m solve_time \u001b[38;5;241m=\u001b[39m \u001b[38;5;241m-\u001b[39mtime\u001b[38;5;241m.\u001b[39mtime()\n",
      "\u001b[0;31mIndexError\u001b[0m: index 250 is out of bounds for axis 0 with size 3"
     ]
    }
   ],
   "source": [
    "import importlib\n",
    "# Import your custom modules\n",
    "import astrobee_3d\n",
    "import optimization\n",
    "import simulation\n",
    "# Reload the modules in case they have been updated\n",
    "importlib.reload(astrobee_3d)\n",
    "importlib.reload(optimization)\n",
    "importlib.reload(simulation)\n",
    "\n",
    "\n",
    "import numpy as np\n",
    "\n",
    "from astrobee_3d import Astrobee\n",
    "from optimization import FiniteOptimization\n",
    "from simulation import EmbeddedSimEnvironment\n",
    "\n",
    "# Create pendulum and controller objects\n",
    "bumble = Astrobee()\n",
    "\n",
    "# Get the system discrete-time dynamics\n",
    "A, B = bumble.cartesian_ground_dynamics()\n",
    "print(A.shape, B.shape)\n",
    "Ad, Bd, Cd, Dd = bumble.c2d(A, B, np.eye(6), np.zeros((6, 3)))\n",
    "bumble.set_discrete_dynamics(Ad,Bd)\n",
    "\n",
    "# Get controller\n",
    "R = np.eye(3) * 10\n",
    "\n",
    "# Without u_lim we can do 20s - with u_lim, we need 30! Important to write to them\n",
    "u_lim = np.array([[0.85, 0.42, 0.04]]).T\n",
    "ctl = FiniteOptimization(bumble, bumble.linearized_discrete_dynamics,\n",
    "                         total_time=30.0, rendezvous_time=25.0,\n",
    "                         R=R, u_lim=u_lim)\n",
    "\n",
    "# We want Bumble to go after Honey! So now, we will just create a simple\n",
    "# trajectory for Honey to do while waiting rendezvous\n",
    "honey = Astrobee()\n",
    "honey.set_trajectory(time=30.0)\n",
    "x_r = honey.get_trajectory(t_start=25.0)\n",
    "\n",
    "\n",
    "\n",
    "\n",
    "\n",
    "x_full_ref = honey.get_trajectory(t_start=0.0)\n",
    "\n",
    "x0 = np.array([[0.1, 0, 0, 0, 0.01, 0]]).T\n",
    "x_star, u_star = ctl.solve_problem(x0, x_r)\n"
   ]
  },
  {
   "cell_type": "code",
   "execution_count": null,
   "metadata": {},
   "outputs": [],
   "source": []
  }
 ],
 "metadata": {
  "kernelspec": {
   "display_name": "env",
   "language": "python",
   "name": "python3"
  },
  "language_info": {
   "codemirror_mode": {
    "name": "ipython",
    "version": 3
   },
   "file_extension": ".py",
   "mimetype": "text/x-python",
   "name": "python",
   "nbconvert_exporter": "python",
   "pygments_lexer": "ipython3",
   "version": "3.12.3"
  }
 },
 "nbformat": 4,
 "nbformat_minor": 2
}
