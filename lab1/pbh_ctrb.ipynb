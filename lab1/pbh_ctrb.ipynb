{
 "cells": [
  {
   "cell_type": "markdown",
   "id": "798125a0",
   "metadata": {},
   "source": [
    "## Some clarifications about the PBH test for reachability, controllability and stabilizabilty\n",
    "\n",
    "As we have discussed in class, the key concept when it comes to state-transfer for a discrete-time linear system\n",
    "$$\n",
    "    x_{t+1}=Ax_t+Bu_t\n",
    "$$\n",
    "is **reachability**, i.e. the ability to steer the system state from $x_0=0$ to any $x_{\\rm tgt}$ at some future time $t$.\n",
    "\n",
    "The basic analysis, that you have also done in the basic course (although for a continuous-time system), is that a system is reachable if and only if the observability matrix \n",
    "\n",
    "$$\n",
    "\\mathcal{C}_n = \\begin{pmatrix} A^{n-1}B & A^{n-2}B & \\cdots & AB & B\\end{pmatrix}\n",
    "$$\n",
    "\n",
    "has full rank. A nice by-product of the proof of this statement is that we know what whenever the system is reachable, you reach every target state in exact $n$ steps (where $n$ is the system order). Of course, this statement is only valid if you do not have any constraints on $x_t$ and $u_t$, and the control may be far from optimal in other aspects.\n",
    "\n",
    "If you only have a single input, then the controllability matrix is square and you can check that it has full rank by computing its determinant. However, when the system has more inputs, checking for full rank becomes more complicated (at least by hand). Moreover, if the system is not reachable, the controllability matrix gives you no direct insight into whether the system is controllable or stabilizable.\n",
    "\n",
    "The PBH test is much more helpful in this respect. We will also see that it is a very useful theoretical tool.\n",
    "\n",
    "The PBH test states that a linear system is **unreachable** if and only if there is a vector $w\\neq 0$ and a scalar $\\lambda$ such that\n",
    "$$\n",
    "    w^{\\top}A = \\lambda w^{\\top}, \\qquad w^{\\top}B=0\n",
    "$$\n",
    "Hence if the system is reachable, there can be no solution $(w, \\lambda)$ to these equations.\n",
    "\n",
    "The naming of variables in the PBH test is no coincidence: $\\lambda$ is indeed an eigenvalue of $A$. \n",
    "\n",
    "Hence, to verify the PBH test by pen-and-paper, you first compute the eigenvalues $\\lambda_i$ of $A$. For each of these, you compute the corresponding vector $w_i$ from $w_i^{\\top}A=\\lambda w_i^{\\top}$ and test if it also satisfies $w_i^{\\top}B=0$. If you can find any such combination $(\\lambda_i, w_i)$, the system is unreachable.\n",
    "\n",
    "As we mentioned on the lectures, $w$ defines directions in the state space in which we cannot control the state vector. In particular, $z_t = w^{\\top}x_t$ satisfies\n",
    "$$\n",
    "    z_{t+1} = w^{\\top}x_{t+1}=w^{\\top}(Ax_t + Bu_t) = w^{\\top}Ax_t = \\lambda w^{\\top}x_t = \\lambda z_t\n",
    "$$\n",
    "Therefore, if we find $(\\lambda_i, w_i)$ that satisfy the equations of the PBH test, it is fine if $\\vert \\lambda_i\\vert<1$, since the dynamics that we cannot control will be asymptotically stable. If every $\\lambda$ that satisfies the PBH equations has magnitude less than one, we call the system stabilizable. If all $\\lambda_i$ that satisfy the PBH equations are equal to zero, the system is controllable. If any $\\lambda_i$ that satisfies the PBH equation has magnitude greater than one, then we are in trouble. The system is unreachable, and the part of the state vector that we cannot control grows exponentially (\"is unstable\").\n",
    "\n",
    "**Note.** How can we claim that $\\lambda$ is an eigenvalue of $A$? Assuming that you are familiar with the standard right eigenvectors\n",
    "$$\n",
    "    Av = \\lambda v\n",
    "$$\n",
    "we can tranpose the first PBH equation\n",
    "$$\n",
    "    (w^{\\top}A)^{\\top}=(\\lambda w^{\\top})^{\\top} \\Rightarrow A^{\\top} w = \\lambda w\n",
    "$$\n",
    "Hence, $w$ is a \"standard\" right eigenvector of $A^{\\top}$. But a classic result from linear algebra (see the appendix of the lecture notes) states that $A$ and $A^{\\top}$ have the same eigenvalues. Hence, $\\lambda$ in the PBH equations is indeed an eigenvalue of $A$.\n",
    "\n",
    "This discussion also shows how we can perform the PBH test numerically: we compute the eigenvalues $\\lambda_i$ and eigenvectors $w_i$ of $A^{\\top}$, and then check if any of these eigenvectors satisfy $w_i^{\\top}B=0$. If they do, then the magnitude of the corresponding $\\lambda_i$'s determine if the system is controllable, stabilizable, or unreachable. Let us try this technique on the systems in Exercise 1.5 (please also try to solve them by the paper-and-pen method described above!)"
   ]
  },
  {
   "cell_type": "code",
   "execution_count": 2,
   "id": "db096a30",
   "metadata": {},
   "outputs": [],
   "source": [
    "import numpy as np"
   ]
  },
  {
   "cell_type": "code",
   "execution_count": 3,
   "id": "c04ee6c3",
   "metadata": {},
   "outputs": [
    {
     "name": "stdout",
     "output_type": "stream",
     "text": [
      "A=[[ 1  1]\n",
      " [ 1 -1]]\n",
      "B=[[1]\n",
      " [1]]\n"
     ]
    }
   ],
   "source": [
    "# Define system matrices for 1.5 (a)\n",
    "A=np.array([[1,1],[1,-1]]); B=np.array([[1],[1]]); \n",
    "print(f'A={A}'); print(f'B={B}')"
   ]
  },
  {
   "cell_type": "code",
   "execution_count": 4,
   "id": "bc590896",
   "metadata": {},
   "outputs": [
    {
     "name": "stdout",
     "output_type": "stream",
     "text": [
      "Controllability matrix\n",
      "[[2 1]\n",
      " [0 1]]\n",
      "has determinant 2.0 and is therefore of full rank.\n"
     ]
    }
   ],
   "source": [
    "# Compute controllability matrix\n",
    "C2=np.hstack((A@B, B))\n",
    "print('Controllability matrix')\n",
    "print(C2) \n",
    "print(f'has determinant {np.linalg.det(C2)} and is therefore of full rank.')"
   ]
  },
  {
   "cell_type": "code",
   "execution_count": 5,
   "id": "e40cfe1d",
   "metadata": {},
   "outputs": [
    {
     "name": "stdout",
     "output_type": "stream",
     "text": [
      "Eigenvalue lambda=1.414213562373095 has w^TB=[1.30656296]\n",
      "Eigenvalue lambda=-1.4142135623730951 has w^TB=[0.5411961]\n"
     ]
    }
   ],
   "source": [
    "# PBH approach\n",
    "# Compute eigenvalues and eigenvectors of A^T, perform PBH test\n",
    "(eigs,W)=np.linalg.eig(A.T)\n",
    "lam1=eigs[0]; w1=W[:,0]\n",
    "print(f'Eigenvalue lambda={lam1} has w^TB={w1.T@B}')\n",
    "lam2=eigs[1]; w2=W[:,1]\n",
    "print(f'Eigenvalue lambda={lam2} has w^TB={w2.T@B}')\n",
    "# Since none of the w satisfy w^TB=0, the system is reachable"
   ]
  },
  {
   "cell_type": "code",
   "execution_count": 6,
   "id": "6c38dd9e",
   "metadata": {},
   "outputs": [
    {
     "name": "stdout",
     "output_type": "stream",
     "text": [
      "A=[[ 3.   1. ]\n",
      " [-2.5 -0.5]]\n",
      "B=[[ 1]\n",
      " [-1]]\n"
     ]
    }
   ],
   "source": [
    "# Define system matrices for 1.5 (b)\n",
    "A=np.array([[3,1],[-2.5,-0.5]]); B=np.array([[1],[-1]]); \n",
    "print(f'A={A}'); print(f'B={B}')"
   ]
  },
  {
   "cell_type": "code",
   "execution_count": 7,
   "id": "8e671def",
   "metadata": {},
   "outputs": [
    {
     "name": "stdout",
     "output_type": "stream",
     "text": [
      "Controllability matrix\n",
      "[[ 2.  1.]\n",
      " [-2. -1.]]\n",
      "has determinant 0.0 and is therefore not full rank.\n"
     ]
    }
   ],
   "source": [
    "# Compute controllability matrix\n",
    "C2=np.hstack((A@B, B))\n",
    "print('Controllability matrix')\n",
    "print(C2) \n",
    "print(f'has determinant {np.linalg.det(C2)} and is therefore not full rank.')"
   ]
  },
  {
   "cell_type": "code",
   "execution_count": 8,
   "id": "a69b5cec",
   "metadata": {},
   "outputs": [
    {
     "name": "stdout",
     "output_type": "stream",
     "text": [
      "Eigenvalue lambda=2.0 has w^TB=[0.55708601]\n",
      "Eigenvalue lambda=0.5 has w^TB=[0.]\n",
      "Since the magnitude of this eigenvalue is less than one, the system is stabilziable.\n"
     ]
    }
   ],
   "source": [
    "# PBH approach\n",
    "# Compute eigenvalues and eigenvectors of A^T, perform PBH test\n",
    "(eigs,W)=np.linalg.eig(A.T)\n",
    "lam1=eigs[0]; w1=W[:,0]\n",
    "print(f'Eigenvalue lambda={lam1} has w^TB={w1.T@B}')\n",
    "lam2=eigs[1]; w2=W[:,1]\n",
    "print(f'Eigenvalue lambda={lam2} has w^TB={w2.T@B}')\n",
    "print('Since the magnitude of this eigenvalue is less than one, the system is stabilziable.')\n",
    "# Since none of the w satisfy w^TB=0, the system is reachable"
   ]
  },
  {
   "cell_type": "code",
   "execution_count": 9,
   "id": "73337219",
   "metadata": {},
   "outputs": [
    {
     "name": "stdout",
     "output_type": "stream",
     "text": [
      "A=[[ 2.   0. ]\n",
      " [-0.5  0.5]]\n",
      "B=[[0]\n",
      " [1]]\n"
     ]
    }
   ],
   "source": [
    "# Define system matrices for 1.5 (c)\n",
    "A=np.array([[2,0],[-0.5,0.5]]); B=np.array([[0],[1]]); \n",
    "print(f'A={A}'); print(f'B={B}')"
   ]
  },
  {
   "cell_type": "code",
   "execution_count": 10,
   "id": "65b82cae",
   "metadata": {},
   "outputs": [
    {
     "name": "stdout",
     "output_type": "stream",
     "text": [
      "Controllability matrix\n",
      "[[0.  0. ]\n",
      " [0.5 1. ]]\n",
      "has determinant 0.0 and is therefore not full rank.\n"
     ]
    }
   ],
   "source": [
    "# Compute controllability matrix\n",
    "C2=np.hstack((A@B, B))\n",
    "print('Controllability matrix')\n",
    "print(C2) \n",
    "print(f'has determinant {np.linalg.det(C2)} and is therefore not full rank.')"
   ]
  },
  {
   "cell_type": "code",
   "execution_count": 11,
   "id": "7b80be08",
   "metadata": {},
   "outputs": [
    {
     "name": "stdout",
     "output_type": "stream",
     "text": [
      "Eigenvalue lambda=2.0 has w^TB=[0.]\n",
      "Since the magnitude of this eigenvalue is greater than one, the system is unreachable and neither controllable nor stabilizable.\n",
      "Eigenvalue lambda=0.5 has w^TB=[0.9486833]\n"
     ]
    }
   ],
   "source": [
    "# PBH approach\n",
    "# Compute eigenvalues and eigenvectors of A^T, perform PBH test\n",
    "(eigs,W)=np.linalg.eig(A.T)\n",
    "lam1=eigs[0]; w1=W[:,0]\n",
    "print(f'Eigenvalue lambda={lam1} has w^TB={w1.T@B}')\n",
    "print('Since the magnitude of this eigenvalue is greater than one, the system is unreachable and neither controllable nor stabilizable.')\n",
    "lam2=eigs[1]; w2=W[:,1]\n",
    "print(f'Eigenvalue lambda={lam2} has w^TB={w2.T@B}')\n",
    "# Since none of the w satisfy w^TB=0, the system is reachable"
   ]
  },
  {
   "cell_type": "markdown",
   "id": "28508539",
   "metadata": {},
   "source": [
    "As we discussed above, any initital value $x_0$ with $z_0 = w^{\\top}x_0 \\neq 0$ will grow exponentially. Clearly, \n",
    "$$\n",
    "    x_0=w_1=\\begin{pmatrix}\n",
    "    1\\\\0\n",
    "    \\end{pmatrix}\n",
    "$$\n",
    "has $w_1^{\\top}x_0 = w_1^{\\top}w_1\\neq 0$ (in fact, it is equal to one, since the computed eigenvectors have unit norm). Let's simulate the system with this initial value."
   ]
  },
  {
   "cell_type": "code",
   "execution_count": 12,
   "id": "ae064cbf",
   "metadata": {},
   "outputs": [
    {
     "name": "stdout",
     "output_type": "stream",
     "text": [
      "x1=[ 2.  -0.5]\n",
      "x2=[ 4.   -1.25]\n",
      "x3=[ 8.    -2.625]\n"
     ]
    }
   ],
   "source": [
    "x0=W[:,0]\n",
    "x1=A@x0; print(f'x1={x1}')\n",
    "x2=A@x1; print(f'x2={x2}')\n",
    "x3=A@x2; print(f'x3={x3}')"
   ]
  },
  {
   "cell_type": "markdown",
   "id": "61b97f8c",
   "metadata": {},
   "source": [
    "Please feel free to try these simulations for the controllable (but not reachable) system. \n",
    "\n",
    "Finally, to make the point that the controllability matrix is not always easy to use by hand when we have more than one input, let us add another input to the system in 1.5(a). "
   ]
  },
  {
   "cell_type": "code",
   "execution_count": 13,
   "id": "48307061",
   "metadata": {},
   "outputs": [
    {
     "name": "stdout",
     "output_type": "stream",
     "text": [
      "A=[[ 1  1]\n",
      " [ 1 -1]]\n",
      "B=[[1 1]\n",
      " [1 0]]\n"
     ]
    }
   ],
   "source": [
    "# Define system matrices for 1.5 (a)\n",
    "A=np.array([[1,1],[1,-1]]); B=np.array([[1, 1],[1, 0]]); \n",
    "print(f'A={A}'); print(f'B={B}')"
   ]
  },
  {
   "cell_type": "markdown",
   "id": "2c60d3a5",
   "metadata": {},
   "source": [
    "Of course, since the system is controllable already with the first input, it will be (at least) controllable also with an additional input. Let us determine and print the controllability matrix"
   ]
  },
  {
   "cell_type": "code",
   "execution_count": 14,
   "id": "36bda9e3",
   "metadata": {},
   "outputs": [
    {
     "name": "stdout",
     "output_type": "stream",
     "text": [
      "Controllability matrix\n",
      "[[2 1 1 1]\n",
      " [0 1 1 0]]\n"
     ]
    }
   ],
   "source": [
    "C2=np.hstack((A@B,B))\n",
    "print('Controllability matrix')\n",
    "print(C2) "
   ]
  },
  {
   "cell_type": "markdown",
   "id": "d5257b11",
   "metadata": {},
   "source": [
    "Since the matrix is no longer square, we cannot check that is has the full rank by the determinant test. It is still easy to see that the controllability matrix has full rank here (for example, the new $B$ matrix, which is the last block of the controllability matrix is of full rank (it is square with non-zero determinant) so $C_2$ is too). Hence, with these two inputs, the controllability matrix shows that the system is actually even reachable (not only controllable).\n",
    "\n",
    "If we use the following matrices that describe the dynamics of a four-tank system, it is less obvious to deduce controllability from simply looking at the controllability matrix"
   ]
  },
  {
   "cell_type": "code",
   "execution_count": 15,
   "id": "30374f83",
   "metadata": {},
   "outputs": [
    {
     "name": "stdout",
     "output_type": "stream",
     "text": [
      "Controllability matrix\n",
      "[[0.0405242  0.00161839 0.04084689 0.00115933 0.04117215 0.00068664\n",
      "  0.0415     0.0002    ]\n",
      " [0.00084883 0.03078639 0.00060478 0.03095665 0.0003552  0.03112785\n",
      "  0.0001     0.0313    ]\n",
      " [0.         0.02225849 0.         0.02272898 0.         0.02320941\n",
      "  0.         0.0237    ]\n",
      " [0.01474534 0.         0.01499272 0.         0.01524425 0.\n",
      "  0.0155     0.        ]]\n"
     ]
    }
   ],
   "source": [
    "A = np.array([\n",
    "    [0.9921, 0, 0.0206, 0],\n",
    "    [0, 0.9945, 0, 0.0165],\n",
    "    [0, 0, 0.9793, 0],\n",
    "    [0, 0, 0, 0.9835]\n",
    "])\n",
    "\n",
    "B = np.array([\n",
    "    [0.0415, 0.0002],\n",
    "    [0.0001, 0.0313],\n",
    "    [0, 0.0237],\n",
    "    [0.0155, 0]\n",
    "])\n",
    "C4=np.hstack((A@A@A@B, A@A@B, A@B, B))\n",
    "print('Controllability matrix')\n",
    "print(C4) "
   ]
  },
  {
   "cell_type": "markdown",
   "id": "10742441",
   "metadata": {},
   "source": [
    "On a computer, of course, we can simply compute the rank numerically"
   ]
  },
  {
   "cell_type": "code",
   "execution_count": 16,
   "id": "e3a7a0d1",
   "metadata": {},
   "outputs": [
    {
     "data": {
      "text/plain": [
       "np.int64(4)"
      ]
     },
     "execution_count": 16,
     "metadata": {},
     "output_type": "execute_result"
    }
   ],
   "source": [
    "np.linalg.matrix_rank(C4)"
   ]
  },
  {
   "cell_type": "markdown",
   "id": "b342fdad",
   "metadata": {},
   "source": [
    "Still, you can hopefully appreciate that the PBH test is a useful complement to your other tools :)\n",
    "\n",
    "Just a final note. When you have multiple inputs, $w^{\\top}B$ will be a row vector with $m$ entries, and the condition $w^{\\top}B=0$ means that all entries of this vector should be zero. I encourage you to redo the PBH test (numerically) for the system from 1.5(a) with two inputs that we considered above. You will see that that also the PBH test shows that the system is reachable (and not only controllable).\n"
   ]
  },
  {
   "cell_type": "code",
   "execution_count": null,
   "id": "93b8e37d",
   "metadata": {},
   "outputs": [],
   "source": []
  }
 ],
 "metadata": {
  "kernelspec": {
   "display_name": "Python 3 (ipykernel)",
   "language": "python",
   "name": "python3"
  },
  "language_info": {
   "codemirror_mode": {
    "name": "ipython",
    "version": 3
   },
   "file_extension": ".py",
   "mimetype": "text/x-python",
   "name": "python",
   "nbconvert_exporter": "python",
   "pygments_lexer": "ipython3",
   "version": "3.12.3"
  }
 },
 "nbformat": 4,
 "nbformat_minor": 5
}
