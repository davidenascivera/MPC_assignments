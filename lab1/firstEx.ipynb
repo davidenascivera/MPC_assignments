{
 "cells": [
  {
   "cell_type": "markdown",
   "metadata": {},
   "source": [
    "## Optimization problem using Scipy\n"
   ]
  },
  {
   "cell_type": "code",
   "execution_count": 14,
   "metadata": {},
   "outputs": [
    {
     "name": "stdout",
     "output_type": "stream",
     "text": [
      "[110.  20.]\n"
     ]
    }
   ],
   "source": [
    "import scipy.optimize as opt\n",
    "import numpy as np\n",
    "\n",
    "c = np.array([[-2000],[-1500]])\n",
    "bd = np.array([[-20],[-35],[130]])\n",
    "Ad = np.array([[0,-1],[-1,],[1,1]])\n",
    "\n",
    "sol = opt.linprog(c, Ad,bd)\n",
    "\n",
    "\n",
    "print(sol.x)"
   ]
  },
  {
   "cell_type": "markdown",
   "metadata": {},
   "source": [
    "This way of coding is more similar to the natural language and more intuitive. You don't have to make any matrix."
   ]
  },
  {
   "cell_type": "markdown",
   "metadata": {},
   "source": [
    "## Optimization problem using Scipy.optimize\n"
   ]
  },
  {
   "cell_type": "code",
   "execution_count": 1,
   "metadata": {},
   "outputs": [
    {
     "name": "stdout",
     "output_type": "stream",
     "text": [
      "Optimal value: -250000.00\n",
      "Optimal solution: x1 = 20.00, x2 = 110.00\n"
     ]
    }
   ],
   "source": [
    "import numpy as np\n",
    "import scipy.optimize as opt\n",
    "\n",
    "# Coefficients of the objective function (to be minimized)\n",
    "c = [-1500, -2000]\n",
    "\n",
    "# Coefficients of the inequality constraints\n",
    "A = [[ 1, 1],\n",
    "     [-1, 0],\n",
    "     [ 0,-1]]\n",
    "\n",
    "# Right-hand side of the inequality constraints\n",
    "b = [[130],\n",
    "     [-20],\n",
    "     [-35]]\n",
    "\n",
    "\n",
    "# Solving the linear programming problem\n",
    "result = opt.linprog(c, A_ub=A, b_ub=b, method='highs')\n",
    "\n",
    "# Output the result\n",
    "print(f\"Optimal value: {result.fun:.2f}\")\n",
    "print(f\"Optimal solution: x1 = {result.x[0]:.2f}, x2 = {result.x[1]:.2f}\")\n"
   ]
  },
  {
   "cell_type": "markdown",
   "metadata": {},
   "source": [
    "## Optimization problem using cvxpy\n"
   ]
  },
  {
   "cell_type": "code",
   "execution_count": 1,
   "metadata": {},
   "outputs": [
    {
     "name": "stdout",
     "output_type": "stream",
     "text": [
      "247499.99995601457\n",
      "25.00000006368702\n",
      "104.99999993024201\n"
     ]
    }
   ],
   "source": [
    "import cvxpy as cp\n",
    "\n",
    "first_class_tickets = cp.Variable()\n",
    "second_class_tickets = cp.Variable()\n",
    "\n",
    "profit = 1500*first_class_tickets + 2000*second_class_tickets\n",
    "object = cp.Maximize(profit)\n",
    "\n",
    "constraints = [\n",
    "    first_class_tickets >= 25,\n",
    "    second_class_tickets >= 35,\n",
    "    first_class_tickets + second_class_tickets <= 130\n",
    "]\n",
    "\n",
    "\n",
    "problem = cp.Problem(object, constraints)\n",
    "problem.solve()\n",
    "\n",
    "print(problem.value)\n",
    "print(first_class_tickets.value)\n",
    "print(second_class_tickets.value)"
   ]
  },
  {
   "cell_type": "code",
   "execution_count": 3,
   "metadata": {},
   "outputs": [
    {
     "name": "stdout",
     "output_type": "stream",
     "text": [
      "Optimal profit: 249999.9999528731\n",
      "Optimal number of first-class tickets: 20.00000006823588\n",
      "Optimal number of second-class tickets: 109.99999992525964\n"
     ]
    }
   ],
   "source": [
    "import cvxpy as cp\n",
    "\n",
    "# Define decision variables\n",
    "first_class_tickets = cp.Variable()\n",
    "second_class_tickets = cp.Variable()\n",
    "\n",
    "# Define the objective function\n",
    "profit = 1500 * first_class_tickets + 2000 * second_class_tickets\n",
    "objective = cp.Maximize(profit)\n",
    "\n",
    "# Define the constraints\n",
    "constraints = [\n",
    "first_class_tickets >= 20,\n",
    "second_class_tickets >= 35,\n",
    "first_class_tickets + second_class_tickets <= 130\n",
    "]\n",
    "\n",
    "# Formulate the optimization problem\n",
    "problem = cp.Problem(objective, constraints)\n",
    "# Solve the problem\n",
    "problem.solve()\n",
    "# Retrieve the optimal solution\n",
    "print(\"Optimal profit:\", problem.value)\n",
    "print(\"Optimal number of first-class tickets:\", first_class_tickets.value)\n",
    "print(\"Optimal number of second-class tickets:\", second_class_tickets.value)\n"
   ]
  }
 ],
 "metadata": {
  "kernelspec": {
   "display_name": "myenv",
   "language": "python",
   "name": "python3"
  },
  "language_info": {
   "codemirror_mode": {
    "name": "ipython",
    "version": 3
   },
   "file_extension": ".py",
   "mimetype": "text/x-python",
   "name": "python",
   "nbconvert_exporter": "python",
   "pygments_lexer": "ipython3",
   "version": "3.12.3"
  }
 },
 "nbformat": 4,
 "nbformat_minor": 2
}
