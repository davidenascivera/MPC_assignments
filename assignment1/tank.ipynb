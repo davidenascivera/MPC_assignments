{
 "cells": [
  {
   "cell_type": "markdown",
   "id": "2d2f0912",
   "metadata": {},
   "source": [
    "Import our standard libraries"
   ]
  },
  {
   "cell_type": "code",
   "execution_count": 1,
   "id": "603c588a",
   "metadata": {},
   "outputs": [],
   "source": [
    "import numpy as np\n",
    "import control as ctrl\n",
    "import matplotlib.pyplot as plt"
   ]
  },
  {
   "cell_type": "markdown",
   "id": "2032e548",
   "metadata": {},
   "source": [
    "Next, define the system matrices for the continuous-time dynamics. Note that we consider both $u$ and $w$ as inputs."
   ]
  },
  {
   "cell_type": "code",
   "execution_count": 2,
   "id": "4fca3d00",
   "metadata": {},
   "outputs": [],
   "source": [
    "Ac = np.array([[-0.07, 0],[0.07,-0.07]])\n",
    "Buc = np.array([[0.18],[0]])\n",
    "Bwc= np.array([[0],[0.07]])\n",
    "Bc=np.block([Buc, Bwc])\n",
    "Cc = np.array([[0,1]])\n",
    "Dc = np.array([[0,0]])\n",
    "#sysc = ctrl.ss(Ac,Bc_tmp,Cc,Dc)"
   ]
  },
  {
   "cell_type": "markdown",
   "id": "f5accb78",
   "metadata": {},
   "source": [
    "Sample the system with sampling time $h=5$ seconds, retrieve discrete-time system matrices and separate the B matrix into one part for u and one for w."
   ]
  },
  {
   "cell_type": "code",
   "execution_count": 3,
   "id": "abfd099f",
   "metadata": {},
   "outputs": [],
   "source": [
    "h=5\n",
    "sysd = ctrl.c2d(sysc,h)\n",
    "A,B_tmp,C,D=ctrl.ssdata(sysd)\n",
    "B=B_tmp[:,0].reshape(-1,1)\n",
    "Bw=B_tmp[:,1].reshape(-1,1)"
   ]
  },
  {
   "cell_type": "markdown",
   "id": "9387c019",
   "metadata": {},
   "source": [
    "Next, design state feedback using pole placement. Note that the place command does not allow us to put both poles at exactly the same location. The reference and disturbance feed-forward gains are computed using the fomulas in the lecture notes."
   ]
  },
  {
   "cell_type": "code",
   "execution_count": 4,
   "id": "11d2f211",
   "metadata": {},
   "outputs": [],
   "source": [
    "L=ctrl.place(A,B,[0.5, 0.5001])\n",
    "Lr=np.linalg.inv(C@np.linalg.inv(np.eye(2)-A+B@L)@B)\n",
    "Lw=-np.linalg.inv(C@np.linalg.inv(np.eye(2)-A+B@L)@B)@(C@np.linalg.inv(np.eye(2)-A+B@L)@Bw)"
   ]
  },
  {
   "cell_type": "markdown",
   "id": "5645b00d",
   "metadata": {},
   "source": [
    "Set up the closed-loop dynamics. For convenient simulation, we define the outputs as the system states and the control signal. First, witout disturbance feed-forward:\n",
    "\n",
    "$$\n",
    "x_{t+1}=Ax_t+ Bu_t + B_w w_t, \\quad u_t=-Lx_t + L_r r_t \\quad \\Rightarrow x_{t+1}=(A-BL)x_t + B L_r r_t + B_w w_t\n",
    "$$"
   ]
  },
  {
   "cell_type": "code",
   "execution_count": 18,
   "id": "e6f80dfe",
   "metadata": {},
   "outputs": [],
   "source": [
    "Acl=A-B@L\n",
    "Bcl=np.block([B@Lr, Bw])\n",
    "Ccl=np.block([[np.eye(2)],[-L]]);\n",
    "Dr=np.block([[np.zeros((2,1))],[Lr]])\n",
    "Dcl=np.block([ [Dr, np.zeros((3,1))]])\n",
    "sysd_cl=ctrl.ss(Acl,Bcl,Ccl,Dcl,h)"
   ]
  },
  {
   "cell_type": "markdown",
   "id": "a826bdac",
   "metadata": {},
   "source": [
    "Define input signals: $u$ is a step at time $t=0$, and $w$ is a step at time $t=60$."
   ]
  },
  {
   "cell_type": "code",
   "execution_count": 24,
   "id": "e24daaa8",
   "metadata": {},
   "outputs": [],
   "source": [
    "stop_time=120\n",
    "nt=int(stop_time/h)\n",
    "time=np.linspace(0,stop_time,nt+1)\n",
    "\n",
    "u=np.ones(nt+1)\n",
    "d=np.array([0 if t<=60 else 0.1 for t in time])\n",
    "input_signals=np.block([[u],[d]])\n",
    "\n",
    "x0 = np.zeros((2,1))\n",
    "t,y=ctrl.forced_response(sysd_cl, time, input_signals, x0)"
   ]
  },
  {
   "cell_type": "markdown",
   "id": "df9b078e",
   "metadata": {},
   "source": [
    "Plot the results."
   ]
  },
  {
   "cell_type": "code",
   "execution_count": 25,
   "id": "1b1553af",
   "metadata": {},
   "outputs": [
    {
     "data": {
      "image/png": "[encoded data removed]",
      "text/plain": [
       "<Figure size 432x288 with 1 Axes>"
      ]
     },
     "metadata": {
      "needs_background": "light"
     },
     "output_type": "display_data"
    }
   ],
   "source": [
    "\n",
    "plt.plot(t,y[1,:])\n",
    "plt.grid()"
   ]
  },
  {
   "cell_type": "markdown",
   "id": "70d51821",
   "metadata": {},
   "source": [
    "Notice that we follow the reference without error, but the disturbance is not compensated for.\n",
    "\n",
    "\n",
    "Redo simulation with disturbance feed-forward added. We first need to update the closed-loop matrices.\n",
    "\n"
   ]
  },
  {
   "cell_type": "code",
   "execution_count": 26,
   "id": "0f1efbba",
   "metadata": {
    "scrolled": true
   },
   "outputs": [
    {
     "data": {
      "image/png": "[encoded data removed]",
      "text/plain": [
       "<Figure size 432x288 with 1 Axes>"
      ]
     },
     "metadata": {
      "needs_background": "light"
     },
     "output_type": "display_data"
    }
   ],
   "source": [
    "Bcl=np.block([B@Lr, Bw+B@Lw])\n",
    "Dw=np.block([[np.zeros((2,1))],[Lw]])\n",
    "Dcl=np.block([ [Dr, Dw]])\n",
    "sysd_cl2=ctrl.ss(Acl,Bcl,Ccl,Dcl,h)\n",
    "t,y=ctrl.forced_response(sysd_cl2, time, input_signals, x0)\n",
    "plt.plot(t,y[1,:])\n",
    "plt.grid()"
   ]
  },
  {
   "cell_type": "markdown",
   "id": "a10f2d35",
   "metadata": {},
   "source": [
    "The addition of the disturbance feed-forward allows to elimiate the effect of the disturbance in steady-state."
   ]
  },
  {
   "cell_type": "code",
   "execution_count": null,
   "id": "a5c2983d",
   "metadata": {},
   "outputs": [],
   "source": []
  }
 ],
 "metadata": {
  "kernelspec": {
   "display_name": "Python 3 (ipykernel)",
   "language": "python",
   "name": "python3"
  },
  "language_info": {
   "codemirror_mode": {
    "name": "ipython",
    "version": 3
   },
   "file_extension": ".py",
   "mimetype": "text/x-python",
   "name": "python",
   "nbconvert_exporter": "python",
   "pygments_lexer": "ipython3",
   "version": "3.12.3"
  }
 },
 "nbformat": 4,
 "nbformat_minor": 5
}
